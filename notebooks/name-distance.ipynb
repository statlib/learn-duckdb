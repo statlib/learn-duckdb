{
  "cells": [
    {
      "cell_type": "markdown",
      "metadata": {
        "id": "view-in-github",
        "colab_type": "text"
      },
      "source": [
        "<a href=\"https://colab.research.google.com/github/statlib/learn-duckdb/blob/main/notebooks/name_distance.ipynb\" target=\"_parent\"><img src=\"https://colab.research.google.com/assets/colab-badge.svg\" alt=\"Open In Colab\"/></a>"
      ]
    },
    {
      "cell_type": "code",
      "execution_count": 1,
      "metadata": {
        "colab": {
          "base_uri": "https://localhost:8080/"
        },
        "id": "lIYdn1woOS1n",
        "outputId": "bd0b4277-623c-4b4b-8708-f040111bfd21"
      },
      "outputs": [
        {
          "output_type": "stream",
          "name": "stdout",
          "text": [
            "Requirement already satisfied: duckdb in /usr/local/lib/python3.10/dist-packages (0.9.1.dev43)\n",
            "Requirement already satisfied: doublemetaphone in /usr/local/lib/python3.10/dist-packages (1.1)\n"
          ]
        }
      ],
      "source": [
        "!pip install --upgrade --pre duckdb doublemetaphone"
      ]
    },
    {
      "cell_type": "code",
      "source": [
        "import duckdb as dd\n",
        "import duckdb.typing as T\n",
        "from doublemetaphone import doublemetaphone"
      ],
      "metadata": {
        "id": "yDDYJTKWTtpW"
      },
      "execution_count": 2,
      "outputs": []
    },
    {
      "cell_type": "code",
      "source": [
        "def dm(x: str, primary: bool=True) -> str:\n",
        "    x = doublemetaphone(x)\n",
        "    return x[0] if primary else x[1]"
      ],
      "metadata": {
        "id": "hHNTHiqYX_ce"
      },
      "execution_count": 3,
      "outputs": []
    },
    {
      "cell_type": "code",
      "source": [
        "dd.create_function(\n",
        "    'dm',\n",
        "    dm,\n",
        "    [T.VARCHAR, T.BOOLEAN],\n",
        "    T.VARCHAR,\n",
        "    type='native'\n",
        ")"
      ],
      "metadata": {
        "id": "d-YM4K1SV3I7",
        "outputId": "74f2623f-5d7c-4c1d-c7fb-ef4158e09932",
        "colab": {
          "base_uri": "https://localhost:8080/"
        }
      },
      "execution_count": 5,
      "outputs": [
        {
          "output_type": "execute_result",
          "data": {
            "text/plain": [
              "<duckdb.duckdb.DuckDBPyConnection at 0x7ba355ac6ff0>"
            ]
          },
          "metadata": {},
          "execution_count": 5
        }
      ]
    },
    {
      "cell_type": "code",
      "source": [
        "dd.sql(\n",
        "    \"\"\"\n",
        "    DROP MACRO IF EXISTS name_dist;\n",
        "\n",
        "    CREATE MACRO name_dist(a, b) AS (\n",
        "        round(\n",
        "            jaro_winkler_similarity(a, b),\n",
        "            4\n",
        "        )\n",
        "    );\n",
        "\n",
        "    DROP MACRO IF EXISTS sound_dist;\n",
        "\n",
        "    CREATE MACRO sound_dist(a, b) AS (\n",
        "        round(\n",
        "            (\n",
        "                jaro_winkler_similarity(dm(a, True), dm(b, True)) +\n",
        "                jaro_winkler_similarity(dm(a, False), dm(b, False))\n",
        "            ) / 2,\n",
        "            4\n",
        "        )\n",
        "    );\n",
        "    \"\"\"\n",
        ")"
      ],
      "metadata": {
        "id": "xe5m4HaSYkQk"
      },
      "execution_count": 9,
      "outputs": []
    },
    {
      "cell_type": "code",
      "source": [
        "dd.sql(\n",
        "    \"\"\"\n",
        "    WITH cte AS (\n",
        "        SELECT\n",
        "            *\n",
        "        FROM (\n",
        "            VALUES\n",
        "                ('Jack Jackson'),\n",
        "                ('Jack Johnson'),\n",
        "                ('Jim Johnson')\n",
        "        ) names(name)\n",
        "    ),\n",
        "    comb AS (\n",
        "        SELECT\n",
        "            c1.name name1,\n",
        "            c2.name name2,\n",
        "            name_dist(name1, name2) dist1\n",
        "        FROM\n",
        "            cte c1\n",
        "        LEFT JOIN\n",
        "            cte c2\n",
        "        ON\n",
        "            c1.name <> c2.name\n",
        "        WHERE\n",
        "            dist1 >= .8\n",
        "    )\n",
        "    SELECT\n",
        "        *,\n",
        "        sound_dist(name1, name2) dist2\n",
        "    FROM\n",
        "        comb\n",
        "    WHERE\n",
        "        dist2 >= .8\n",
        "    \"\"\"\n",
        ")"
      ],
      "metadata": {
        "id": "6P1soDwJaWdr",
        "outputId": "55347a04-ccd4-4132-a395-97415c9a468b",
        "colab": {
          "base_uri": "https://localhost:8080/"
        }
      },
      "execution_count": 10,
      "outputs": [
        {
          "output_type": "execute_result",
          "data": {
            "text/plain": [
              "┌──────────────┬──────────────┬────────┬────────┐\n",
              "│    name1     │    name2     │ dist1  │ dist2  │\n",
              "│   varchar    │   varchar    │ double │ double │\n",
              "├──────────────┼──────────────┼────────┼────────┤\n",
              "│ Jack Johnson │ Jack Jackson │ 0.8778 │ 0.8756 │\n",
              "│ Jack Jackson │ Jack Johnson │ 0.8778 │ 0.8756 │\n",
              "│ Jim Johnson  │ Jack Johnson │ 0.8705 │    0.9 │\n",
              "│ Jack Johnson │ Jim Johnson  │ 0.8705 │    0.9 │\n",
              "└──────────────┴──────────────┴────────┴────────┘"
            ]
          },
          "metadata": {},
          "execution_count": 10
        }
      ]
    }
  ],
  "metadata": {
    "colab": {
      "name": "scratchpad",
      "provenance": [],
      "include_colab_link": true
    },
    "kernelspec": {
      "display_name": "Python 3",
      "name": "python3"
    }
  },
  "nbformat": 4,
  "nbformat_minor": 0
}
