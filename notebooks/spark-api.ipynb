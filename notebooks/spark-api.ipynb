{
  "nbformat": 4,
  "nbformat_minor": 0,
  "metadata": {
    "colab": {
      "provenance": [],
      "authorship_tag": "ABX9TyMs9xWiIXTGGWlC0vUs0vWE",
      "include_colab_link": true
    },
    "kernelspec": {
      "name": "python3",
      "display_name": "Python 3"
    },
    "language_info": {
      "name": "python"
    }
  },
  "cells": [
    {
      "cell_type": "markdown",
      "metadata": {
        "id": "view-in-github",
        "colab_type": "text"
      },
      "source": [
        "<a href=\"https://colab.research.google.com/github/statlib/learn-duckdb/blob/main/notebooks/spark-api.ipynb\" target=\"_parent\"><img src=\"https://colab.research.google.com/assets/colab-badge.svg\" alt=\"Open In Colab\"/></a>"
      ]
    },
    {
      "cell_type": "code",
      "execution_count": null,
      "metadata": {
        "id": "HcMKmlromt0H"
      },
      "outputs": [],
      "source": [
        "# https://motherduck.com/blog/making-pyspark-code-faster-with-duckdb/\n",
        "# https://duckdb.org/docs/api/python/spark_api.html"
      ]
    },
    {
      "cell_type": "code",
      "source": [
        "!pip install --upgrade duckdb"
      ],
      "metadata": {
        "colab": {
          "base_uri": "https://localhost:8080/"
        },
        "id": "ymoM5KWSnPhE",
        "outputId": "c8116cf9-1319-48ca-d7a5-d73b56a60701"
      },
      "execution_count": 1,
      "outputs": [
        {
          "output_type": "stream",
          "name": "stdout",
          "text": [
            "Requirement already satisfied: duckdb in /usr/local/lib/python3.10/dist-packages (0.8.1)\n",
            "Collecting duckdb\n",
            "  Downloading duckdb-0.9.1-cp310-cp310-manylinux_2_17_x86_64.manylinux2014_x86_64.whl (16.5 MB)\n",
            "\u001b[2K     \u001b[90m━━━━━━━━━━━━━━━━━━━━━━━━━━━━━━━━━━━━━━━━\u001b[0m \u001b[32m16.5/16.5 MB\u001b[0m \u001b[31m34.6 MB/s\u001b[0m eta \u001b[36m0:00:00\u001b[0m\n",
            "\u001b[?25hInstalling collected packages: duckdb\n",
            "  Attempting uninstall: duckdb\n",
            "    Found existing installation: duckdb 0.8.1\n",
            "    Uninstalling duckdb-0.8.1:\n",
            "      Successfully uninstalled duckdb-0.8.1\n",
            "Successfully installed duckdb-0.9.1\n"
          ]
        }
      ]
    },
    {
      "cell_type": "code",
      "source": [
        "from duckdb.experimental.spark.sql import SparkSession as session\n",
        "import duckdb.experimental.spark.sql.functions as F\n",
        "import pandas as pd"
      ],
      "metadata": {
        "id": "pe_DgkDWnQ6v"
      },
      "execution_count": 23,
      "outputs": []
    },
    {
      "cell_type": "code",
      "source": [
        "spark = session.builder.getOrCreate()\n",
        "\n",
        "df = pd.DataFrame({\n",
        "    'age': [34, 45, 23, 56],\n",
        "    'name': ['Joan', 'Peter', 'John', 'Bob']\n",
        "})\n",
        "\n",
        "df = spark.createDataFrame(df)\n",
        "\n",
        "\n",
        "df = (\n",
        "    df.withColumn(\n",
        "        'location', F.lit('Seattle'),\n",
        "    )\n",
        "    .withColumn(\n",
        "        'flag', F.lit(True)\n",
        "    )\n",
        ")\n",
        "res = df.select(\n",
        "    F.col('age'),\n",
        "    F.col('name'),\n",
        "    F.col('location'),\n",
        "    F.col('flag')\n",
        ")\n",
        "print(res)"
      ],
      "metadata": {
        "colab": {
          "base_uri": "https://localhost:8080/"
        },
        "id": "GPFKtllNnSiD",
        "outputId": "6931cfa9-f2ab-4cb9-c053-969f01fb34df"
      },
      "execution_count": 25,
      "outputs": [
        {
          "output_type": "stream",
          "name": "stdout",
          "text": [
            "┌───────┬─────────┬──────────┬─────────┐\n",
            "│  age  │  name   │ location │  flag   │\n",
            "│ int64 │ varchar │ varchar  │ boolean │\n",
            "├───────┼─────────┼──────────┼─────────┤\n",
            "│    34 │ Joan    │ Seattle  │ true    │\n",
            "│    45 │ Peter   │ Seattle  │ true    │\n",
            "│    23 │ John    │ Seattle  │ true    │\n",
            "│    56 │ Bob     │ Seattle  │ true    │\n",
            "└───────┴─────────┴──────────┴─────────┘\n",
            "\n"
          ]
        }
      ]
    },
    {
      "cell_type": "code",
      "source": [
        "print(res.collect())"
      ],
      "metadata": {
        "colab": {
          "base_uri": "https://localhost:8080/"
        },
        "id": "jIQD5GqTnVjz",
        "outputId": "9ceda772-2b66-4176-a8e6-642f9b4d1f24"
      },
      "execution_count": 26,
      "outputs": [
        {
          "output_type": "stream",
          "name": "stdout",
          "text": [
            "[Row(age=34, name='Joan', location='Seattle', flag=True), Row(age=45, name='Peter', location='Seattle', flag=True), Row(age=23, name='John', location='Seattle', flag=True), Row(age=56, name='Bob', location='Seattle', flag=True)]\n"
          ]
        }
      ]
    },
    {
      "cell_type": "code",
      "source": [
        "df = spark.createDataFrame([\n",
        "    ['red', 'banana', 1, 10], ['blue', 'banana', 2, 20], ['red', 'carrot', 3, 30],\n",
        "    ['blue', 'grape', 4, 40], ['red', 'carrot', 5, 50], ['black', 'carrot', 6, 60],\n",
        "    ['red', 'banana', 7, 70], ['red', 'grape', 8, 80]], schema=['color', 'fruit', 'v1', 'v2'])\n",
        "df.show()"
      ],
      "metadata": {
        "colab": {
          "base_uri": "https://localhost:8080/"
        },
        "id": "6vMLDNsVzGGN",
        "outputId": "7e8f141f-e6d5-40cd-9cfd-decd6d2460ba"
      },
      "execution_count": 27,
      "outputs": [
        {
          "output_type": "stream",
          "name": "stdout",
          "text": [
            "┌─────────┬─────────┬───────┬───────┐\n",
            "│  color  │  fruit  │  v1   │  v2   │\n",
            "│ varchar │ varchar │ int32 │ int32 │\n",
            "├─────────┼─────────┼───────┼───────┤\n",
            "│ red     │ banana  │     1 │    10 │\n",
            "│ blue    │ banana  │     2 │    20 │\n",
            "│ red     │ carrot  │     3 │    30 │\n",
            "│ blue    │ grape   │     4 │    40 │\n",
            "│ red     │ carrot  │     5 │    50 │\n",
            "│ black   │ carrot  │     6 │    60 │\n",
            "│ red     │ banana  │     7 │    70 │\n",
            "│ red     │ grape   │     8 │    80 │\n",
            "└─────────┴─────────┴───────┴───────┘\n",
            "\n"
          ]
        }
      ]
    },
    {
      "cell_type": "code",
      "source": [
        "df.groupBy('color').avg().show()"
      ],
      "metadata": {
        "colab": {
          "base_uri": "https://localhost:8080/"
        },
        "id": "sbA8ktaHzK6V",
        "outputId": "2785b08d-0f74-467e-cf6e-9cc0c9441cd6"
      },
      "execution_count": 29,
      "outputs": [
        {
          "output_type": "stream",
          "name": "stdout",
          "text": [
            "┌─────────┐\n",
            "│  color  │\n",
            "│ varchar │\n",
            "├─────────┤\n",
            "│ blue    │\n",
            "│ red     │\n",
            "│ black   │\n",
            "└─────────┘\n",
            "\n"
          ]
        }
      ]
    },
    {
      "cell_type": "code",
      "source": [
        "(\n",
        "    df.filter(\n",
        "        (F.col(\"color\") == \"red\") & (F.col(\"fruit\") != \"banana\"))\n",
        "        .groupBy(col(\"color\"))\n",
        "        .agg(\n",
        "            F.mean(df.v2),\n",
        "            F.max(df.v2)\n",
        "        )\n",
        ")"
      ],
      "metadata": {
        "colab": {
          "base_uri": "https://localhost:8080/"
        },
        "id": "dWFS-uqfzX99",
        "outputId": "712dadfc-05ee-4eb1-d935-f96ba9bf160a"
      },
      "execution_count": 40,
      "outputs": [
        {
          "output_type": "execute_result",
          "data": {
            "text/plain": [
              "┌─────────┬────────────────────┬─────────┐\n",
              "│  color  │      mean(v2)      │ max(v2) │\n",
              "│ varchar │       double       │  int32  │\n",
              "├─────────┼────────────────────┼─────────┤\n",
              "│ red     │ 53.333333333333336 │      80 │\n",
              "└─────────┴────────────────────┴─────────┘"
            ]
          },
          "metadata": {},
          "execution_count": 40
        }
      ]
    },
    {
      "cell_type": "code",
      "source": [],
      "metadata": {
        "id": "lTmeiX-pzzg_"
      },
      "execution_count": null,
      "outputs": []
    }
  ]
}